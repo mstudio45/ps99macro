{
 "cells": [
  {
   "cell_type": "markdown",
   "metadata": {},
   "source": [
    "# Local Microsoft OCR using WSL"
   ]
  },
  {
   "cell_type": "code",
   "execution_count": null,
   "metadata": {},
   "outputs": [],
   "source": [
    "from OCR.OCRUtil import OCRUtil, Model\n",
    "\n",
    "wsl = {\n",
    "    \"enabled\": True,    # Enable WSL\n",
    "    \"keep_alive\": True  # Keep WSL alive after the program exits so it can be used again and faster\n",
    "}\n",
    "\n",
    "ocr = OCRUtil(wsl=wsl)\n",
    "ocr.logging = False\n",
    "\n",
    "print(ocr.OCR(image_path=\"assets/ss.png\", model=Model.MICROSOFT))\n",
    "\n",
    "ocr.shutdown_wsl()  # Shutdown WSL if keep_alive is True# Local"
   ]
  },
  {
   "cell_type": "markdown",
   "metadata": {},
   "source": [
    "# Tesseract"
   ]
  },
  {
   "cell_type": "code",
   "execution_count": null,
   "metadata": {},
   "outputs": [],
   "source": [
    "from OCR.OCRUtil import OCRUtil, Model\n",
    "\n",
    "ocr = OCRUtil()\n",
    "\n",
    "print(ocr.OCR(image_path=\"assets/ss.png\", model=Model.PYTESSERACT))"
   ]
  },
  {
   "cell_type": "markdown",
   "metadata": {},
   "source": [
    "# Huggingface Microsoft API"
   ]
  },
  {
   "cell_type": "code",
   "execution_count": 1,
   "metadata": {},
   "outputs": [
    {
     "name": "stdout",
     "output_type": "stream",
     "text": [
      "{'error': 'Authorization header is correct, but the token seems invalid'}\n"
     ]
    }
   ],
   "source": [
    "from OCR.OCRUtil import OCRUtil, Model\n",
    "\n",
    "ocr = OCRUtil()\n",
    "\n",
    "# api_key is optional for HuggingFace, defaulted to my key (just dont add the api_key parameter)\n",
    "print(ocr.OCR(image_path=\"assets/ss.png\", model=Model.HUGGINGFACE_MSAPI,api_key=\"YOUR_API_KEY\"))"
   ]
  }
 ],
 "metadata": {
  "kernelspec": {
   "display_name": "Python 3",
   "language": "python",
   "name": "python3"
  },
  "language_info": {
   "codemirror_mode": {
    "name": "ipython",
    "version": 3
   },
   "file_extension": ".py",
   "mimetype": "text/x-python",
   "name": "python",
   "nbconvert_exporter": "python",
   "pygments_lexer": "ipython3",
   "version": "3.11.4"
  }
 },
 "nbformat": 4,
 "nbformat_minor": 2
}
